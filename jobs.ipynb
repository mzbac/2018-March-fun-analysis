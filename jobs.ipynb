{
 "cells": [
  {
   "cell_type": "code",
   "execution_count": 25,
   "metadata": {
    "collapsed": true
   },
   "outputs": [],
   "source": [
    "from nltk.tokenize import TweetTokenizer\n",
    "import nltk\n",
    "tknzr = TweetTokenizer()\n"
   ]
  },
  {
   "cell_type": "code",
   "execution_count": 26,
   "metadata": {
    "collapsed": true
   },
   "outputs": [],
   "source": [
    "class Words:\n",
    "    def __init__(self, name):\n",
    "        self.name = name\n",
    "        self.word2index = {}\n",
    "        self.word2count = {}\n",
    "        self.index2word = {}\n",
    "        self.n_words = 0\n",
    "      \n",
    "    def index_words(self, sentence):\n",
    "        for word in tknzr.tokenize(sentence.lower()):\n",
    "            self.index_word(word)\n",
    "\n",
    "    def index_word(self, word):\n",
    "        if word not in self.word2index:\n",
    "            self.word2index[word] = self.n_words\n",
    "            self.word2count[word] = 1\n",
    "            self.index2word[self.n_words] = word\n",
    "            self.n_words += 1\n",
    "        else:\n",
    "            self.word2count[word] += 1"
   ]
  },
  {
   "cell_type": "code",
   "execution_count": 27,
   "metadata": {
    "collapsed": true
   },
   "outputs": [],
   "source": [
    "import pandas as pd"
   ]
  },
  {
   "cell_type": "code",
   "execution_count": 28,
   "metadata": {
    "collapsed": true
   },
   "outputs": [],
   "source": [
    "df = pd.read_csv('seek_jobs_Melbourne.csv')"
   ]
  },
  {
   "cell_type": "code",
   "execution_count": 29,
   "metadata": {},
   "outputs": [
    {
     "data": {
      "text/html": [
       "<div>\n",
       "<style>\n",
       "    .dataframe thead tr:only-child th {\n",
       "        text-align: right;\n",
       "    }\n",
       "\n",
       "    .dataframe thead th {\n",
       "        text-align: left;\n",
       "    }\n",
       "\n",
       "    .dataframe tbody tr th {\n",
       "        vertical-align: top;\n",
       "    }\n",
       "</style>\n",
       "<table border=\"1\" class=\"dataframe\">\n",
       "  <thead>\n",
       "    <tr style=\"text-align: right;\">\n",
       "      <th></th>\n",
       "      <th>id</th>\n",
       "      <th>listingDate</th>\n",
       "      <th>location</th>\n",
       "      <th>title</th>\n",
       "      <th>teaser</th>\n",
       "      <th>companyName</th>\n",
       "    </tr>\n",
       "  </thead>\n",
       "  <tbody>\n",
       "    <tr>\n",
       "      <th>0</th>\n",
       "      <td>35672363</td>\n",
       "      <td>2018-03-16T13:00:00Z</td>\n",
       "      <td>Melbourne</td>\n",
       "      <td>Sales Key Account Manager</td>\n",
       "      <td>Excellent opportunity for an experienced astut...</td>\n",
       "      <td>None</td>\n",
       "    </tr>\n",
       "    <tr>\n",
       "      <th>1</th>\n",
       "      <td>35698570</td>\n",
       "      <td>2018-03-16T13:00:00Z</td>\n",
       "      <td>Melbourne</td>\n",
       "      <td>Graduate Software Developer</td>\n",
       "      <td>This role will suit someone who loves problem ...</td>\n",
       "      <td>Integrated Application Development</td>\n",
       "    </tr>\n",
       "    <tr>\n",
       "      <th>2</th>\n",
       "      <td>35774279</td>\n",
       "      <td>2018-03-17T00:18:01Z</td>\n",
       "      <td>Melbourne</td>\n",
       "      <td>TIBCO Integration &lt;b&gt;Developer&lt;/b&gt;</td>\n",
       "      <td>Are you a TIBCO &lt;b&gt;developer&lt;/b&gt; looking for a...</td>\n",
       "      <td>The Citadel Group</td>\n",
       "    </tr>\n",
       "    <tr>\n",
       "      <th>3</th>\n",
       "      <td>35766625</td>\n",
       "      <td>2018-03-16T02:13:29Z</td>\n",
       "      <td>Melbourne</td>\n",
       "      <td>Sr Analyst Programmer(Axway API &lt;b&gt;Developer&lt;/b&gt;)</td>\n",
       "      <td>Sr. Analyst Programmer( Axway API &lt;b&gt;Developer...</td>\n",
       "      <td>Adaps IT</td>\n",
       "    </tr>\n",
       "    <tr>\n",
       "      <th>4</th>\n",
       "      <td>35772233</td>\n",
       "      <td>2018-03-16T06:50:16Z</td>\n",
       "      <td>Melbourne</td>\n",
       "      <td>Senior Software &lt;b&gt;Developer&lt;/b&gt; Big Data</td>\n",
       "      <td>As a senior software &lt;b&gt;developer&lt;/b&gt;, play a ...</td>\n",
       "      <td>Coles Group</td>\n",
       "    </tr>\n",
       "  </tbody>\n",
       "</table>\n",
       "</div>"
      ],
      "text/plain": [
       "         id           listingDate   location  \\\n",
       "0  35672363  2018-03-16T13:00:00Z  Melbourne   \n",
       "1  35698570  2018-03-16T13:00:00Z  Melbourne   \n",
       "2  35774279  2018-03-17T00:18:01Z  Melbourne   \n",
       "3  35766625  2018-03-16T02:13:29Z  Melbourne   \n",
       "4  35772233  2018-03-16T06:50:16Z  Melbourne   \n",
       "\n",
       "                                               title  \\\n",
       "0                          Sales Key Account Manager   \n",
       "1                        Graduate Software Developer   \n",
       "2                 TIBCO Integration <b>Developer</b>   \n",
       "3  Sr Analyst Programmer(Axway API <b>Developer</b>)   \n",
       "4         Senior Software <b>Developer</b> Big Data    \n",
       "\n",
       "                                              teaser  \\\n",
       "0  Excellent opportunity for an experienced astut...   \n",
       "1  This role will suit someone who loves problem ...   \n",
       "2  Are you a TIBCO <b>developer</b> looking for a...   \n",
       "3  Sr. Analyst Programmer( Axway API <b>Developer...   \n",
       "4  As a senior software <b>developer</b>, play a ...   \n",
       "\n",
       "                          companyName  \n",
       "0                                None  \n",
       "1  Integrated Application Development  \n",
       "2                   The Citadel Group  \n",
       "3                            Adaps IT  \n",
       "4                         Coles Group  "
      ]
     },
     "execution_count": 29,
     "metadata": {},
     "output_type": "execute_result"
    }
   ],
   "source": [
    "df.head()"
   ]
  },
  {
   "cell_type": "code",
   "execution_count": 30,
   "metadata": {
    "collapsed": true
   },
   "outputs": [],
   "source": [
    "titles = df[\"title\"].values\n",
    "teasers = df[\"teaser\"].values\n",
    "words = Words('words')"
   ]
  },
  {
   "cell_type": "code",
   "execution_count": 31,
   "metadata": {
    "collapsed": true
   },
   "outputs": [],
   "source": [
    "for title in titles:\n",
    "    words.index_words(title)\n",
    "for teaser in teasers:\n",
    "    words.index_words(teaser)"
   ]
  },
  {
   "cell_type": "code",
   "execution_count": 32,
   "metadata": {
    "collapsed": true
   },
   "outputs": [],
   "source": [
    "filter_dict = {'asp.net':1,'node':1,'nodejs':1,'full-stack':1,'python':1,'php':1,'ios':1,'android':1,'docker':1,'aws':1,'javascript':1,'vue':1,'java':1,'net':1,'react':1,'angularjs':1,'angular':1}"
   ]
  },
  {
   "cell_type": "code",
   "execution_count": 33,
   "metadata": {
    "collapsed": true
   },
   "outputs": [],
   "source": [
    "data = []\n",
    "labels = []\n",
    "for k,v in words.word2count.items():\n",
    "    if k in filter_dict:\n",
    "        labels.append(k)\n",
    "        data.append(v)"
   ]
  },
  {
   "cell_type": "code",
   "execution_count": null,
   "metadata": {},
   "outputs": [],
   "source": [
    "import matplotlib.pyplot as plt\n",
    "plt.figure(figsize=(60,30))\n",
    "plt.bar(range(len(data)), data, tick_label=labels)\n",
    "plt.tick_params(labelsize=41)\n",
    "plt.show()"
   ]
  }
 ],
 "metadata": {
  "kernelspec": {
   "display_name": "Python 3",
   "language": "python",
   "name": "python3"
  },
  "language_info": {
   "codemirror_mode": {
    "name": "ipython",
    "version": 3
   },
   "file_extension": ".py",
   "mimetype": "text/x-python",
   "name": "python",
   "nbconvert_exporter": "python",
   "pygments_lexer": "ipython3",
   "version": "3.6.3"
  }
 },
 "nbformat": 4,
 "nbformat_minor": 2
}
